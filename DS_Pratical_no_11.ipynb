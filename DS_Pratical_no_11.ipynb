{
  "nbformat": 4,
  "nbformat_minor": 0,
  "metadata": {
    "colab": {
      "provenance": [],
      "authorship_tag": "ABX9TyNqDikOrjNliz+DLIntyKJ5",
      "include_colab_link": true
    },
    "kernelspec": {
      "name": "python3",
      "display_name": "Python 3"
    },
    "language_info": {
      "name": "python"
    }
  },
  "cells": [
    {
      "cell_type": "markdown",
      "metadata": {
        "id": "view-in-github",
        "colab_type": "text"
      },
      "source": [
        "<a href=\"https://colab.research.google.com/github/PlanetDestroyyer/DS-Pratical-TE-AIDS/blob/main/DS_Pratical_no_11.ipynb\" target=\"_parent\"><img src=\"https://colab.research.google.com/assets/colab-badge.svg\" alt=\"Open In Colab\"/></a>"
      ]
    },
    {
      "cell_type": "code",
      "execution_count": null,
      "metadata": {
        "id": "z3vb8_luwZN9"
      },
      "outputs": [],
      "source": [
        "CREATE DATABASE student_db;\n",
        "USE student_db;\n",
        "\n",
        "CREATE TABLE student (\n",
        "    id INT,\n",
        "    name VARCHAR(100),\n",
        "    marks INT\n",
        ");\n",
        "\n",
        "INSERT INTO student VALUES (1, 'Alice', 85);\n",
        "INSERT INTO student VALUES (2, 'Bob', 78);\n",
        "INSERT INTO student VALUES (3, 'Charlie', 92);\n",
        "\n",
        "SELECT * FROM student;\n",
        "\n",
        "SELECT * FROM student WHERE marks > 80;\n",
        "\n",
        "SELECT COUNT(*) FROM student;\n",
        "\n",
        "SELECT AVG(marks) FROM student;\n"
      ]
    }
  ]
}